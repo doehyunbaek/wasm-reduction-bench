{
 "cells": [
  {
   "cell_type": "code",
   "execution_count": 24,
   "metadata": {},
   "outputs": [
    {
     "name": "stdout",
     "output_type": "stream",
     "text": [
      "Error for mandelbrot.wasm\n",
      "Error for sqlgui.wasm\n",
      "Error for commanderkeen.wasm\n"
     ]
    }
   ],
   "source": [
    "import os\n",
    "import subprocess\n",
    "from concurrent.futures import ThreadPoolExecutor, as_completed\n",
    "\n",
    "def get_benchmarks():\n",
    "    online_tests_path = './benchmarks'\n",
    "    return [\n",
    "        name\n",
    "        for name in os.listdir(online_tests_path)\n",
    "        if os.path.isdir(os.path.join(online_tests_path, name))\n",
    "    ]\n",
    "\n",
    "def run_command(benchmark):\n",
    "    command = f\"./bin/wizard-0d6926ffbe86687a2944a964c62e484ca8b23dc5 -mode=jit ./benchmarks/{benchmark}\"\n",
    "    # print(f\"Running command for benchmark: {benchmark}\")\n",
    "    try:\n",
    "        result = subprocess.run(command, shell=True, check=True, capture_output=True, text=True)\n",
    "        # return f\"Success for {benchmark}: {result.stdout}\"\n",
    "    except subprocess.CalledProcessError as e:\n",
    "        return f\"Error for {benchmark}\"\n",
    "\n",
    "def run_command_for_benchmarks():\n",
    "    benchmarks = !ls benchmarks\n",
    "    if not benchmarks:\n",
    "        print(\"No benchmarks found.\")\n",
    "        return\n",
    "\n",
    "    with ThreadPoolExecutor() as executor:\n",
    "        futures = {executor.submit(run_command, benchmark): benchmark for benchmark in benchmarks}\n",
    "        for future in as_completed(futures):\n",
    "            benchmark = futures[future]\n",
    "            try:\n",
    "                result = future.result()\n",
    "                if result: print(result)\n",
    "                # Ensure the output is flushed immediately\n",
    "                # print(result, flush=True)\n",
    "            except Exception as exc:\n",
    "                print(f\"Benchmark {benchmark} generated an exception: {exc}\")\n",
    "                # Ensure the output is flushed immediately\n",
    "                print(f\"Benchmark {benchmark} generated an exception: {exc}\", flush=True)\n",
    "\n",
    "if __name__ == \"__main__\":\n",
    "    run_command_for_benchmarks()"
   ]
  }
 ],
 "metadata": {
  "kernelspec": {
   "display_name": "Python 3",
   "language": "python",
   "name": "python3"
  },
  "language_info": {
   "codemirror_mode": {
    "name": "ipython",
    "version": 3
   },
   "file_extension": ".py",
   "mimetype": "text/x-python",
   "name": "python",
   "nbconvert_exporter": "python",
   "pygments_lexer": "ipython3",
   "version": "3.12.4"
  }
 },
 "nbformat": 4,
 "nbformat_minor": 2
}
